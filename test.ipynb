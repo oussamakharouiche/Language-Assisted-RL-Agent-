{
 "cells": [
  {
   "cell_type": "code",
   "execution_count": 100,
   "metadata": {},
   "outputs": [],
   "source": [
    "import pandas as pd\n",
    "\n",
    "df = pd.read_pickle(\"./dataset/data.pickle\")"
   ]
  },
  {
   "cell_type": "code",
   "execution_count": 101,
   "metadata": {},
   "outputs": [],
   "source": [
    "df[\"p\"] = df[\"prompt\"].str.lower()"
   ]
  },
  {
   "cell_type": "code",
   "execution_count": 102,
   "metadata": {},
   "outputs": [],
   "source": [
    "df2 = df.drop_duplicates(\"p\")"
   ]
  },
  {
   "cell_type": "code",
   "execution_count": 103,
   "metadata": {},
   "outputs": [
    {
     "data": {
      "text/html": [
       "<div>\n",
       "<style scoped>\n",
       "    .dataframe tbody tr th:only-of-type {\n",
       "        vertical-align: middle;\n",
       "    }\n",
       "\n",
       "    .dataframe tbody tr th {\n",
       "        vertical-align: top;\n",
       "    }\n",
       "\n",
       "    .dataframe thead th {\n",
       "        text-align: right;\n",
       "    }\n",
       "</style>\n",
       "<table border=\"1\" class=\"dataframe\">\n",
       "  <thead>\n",
       "    <tr style=\"text-align: right;\">\n",
       "      <th></th>\n",
       "      <th></th>\n",
       "      <th>prompt</th>\n",
       "      <th>p</th>\n",
       "    </tr>\n",
       "    <tr>\n",
       "      <th>row</th>\n",
       "      <th>column</th>\n",
       "      <th></th>\n",
       "      <th></th>\n",
       "    </tr>\n",
       "  </thead>\n",
       "  <tbody>\n",
       "    <tr>\n",
       "      <th>0</th>\n",
       "      <th>9</th>\n",
       "      <td>1040</td>\n",
       "      <td>1040</td>\n",
       "    </tr>\n",
       "    <tr>\n",
       "      <th rowspan=\"2\" valign=\"top\">9</th>\n",
       "      <th>0</th>\n",
       "      <td>1082</td>\n",
       "      <td>1082</td>\n",
       "    </tr>\n",
       "    <tr>\n",
       "      <th>9</th>\n",
       "      <td>724</td>\n",
       "      <td>724</td>\n",
       "    </tr>\n",
       "  </tbody>\n",
       "</table>\n",
       "</div>"
      ],
      "text/plain": [
       "            prompt     p\n",
       "row column              \n",
       "0   9         1040  1040\n",
       "9   0         1082  1082\n",
       "    9          724   724"
      ]
     },
     "execution_count": 103,
     "metadata": {},
     "output_type": "execute_result"
    }
   ],
   "source": [
    "df2.groupby([\"row\", \"column\"]).count()"
   ]
  },
  {
   "cell_type": "code",
   "execution_count": 99,
   "metadata": {},
   "outputs": [
    {
     "name": "stderr",
     "output_type": "stream",
     "text": [
      "C:\\Users\\oussa\\AppData\\Local\\Temp\\ipykernel_28828\\2084184329.py:1: UserWarning: Boolean Series key will be reindexed to match DataFrame index.\n",
      "  df2[(df2.row == 9) & (df.column == 0)]\n"
     ]
    },
    {
     "data": {
      "text/html": [
       "<div>\n",
       "<style scoped>\n",
       "    .dataframe tbody tr th:only-of-type {\n",
       "        vertical-align: middle;\n",
       "    }\n",
       "\n",
       "    .dataframe tbody tr th {\n",
       "        vertical-align: top;\n",
       "    }\n",
       "\n",
       "    .dataframe thead th {\n",
       "        text-align: right;\n",
       "    }\n",
       "</style>\n",
       "<table border=\"1\" class=\"dataframe\">\n",
       "  <thead>\n",
       "    <tr style=\"text-align: right;\">\n",
       "      <th></th>\n",
       "      <th>row</th>\n",
       "      <th>column</th>\n",
       "      <th>prompt</th>\n",
       "      <th>p</th>\n",
       "    </tr>\n",
       "  </thead>\n",
       "  <tbody>\n",
       "    <tr>\n",
       "      <th>200</th>\n",
       "      <td>9</td>\n",
       "      <td>0</td>\n",
       "      <td>\"Navigate to the extreme left cell in the bott...</td>\n",
       "      <td>\"navigate to the extreme left cell in the bott...</td>\n",
       "    </tr>\n",
       "    <tr>\n",
       "      <th>201</th>\n",
       "      <td>9</td>\n",
       "      <td>0</td>\n",
       "      <td>\"Navigate to the leftmost location on the lowe...</td>\n",
       "      <td>\"navigate to the leftmost location on the lowe...</td>\n",
       "    </tr>\n",
       "    <tr>\n",
       "      <th>202</th>\n",
       "      <td>9</td>\n",
       "      <td>0</td>\n",
       "      <td>Navigate to the farthest left position on the ...</td>\n",
       "      <td>navigate to the farthest left position on the ...</td>\n",
       "    </tr>\n",
       "    <tr>\n",
       "      <th>203</th>\n",
       "      <td>9</td>\n",
       "      <td>0</td>\n",
       "      <td>Head to the leftmost slot of the penultimate l...</td>\n",
       "      <td>head to the leftmost slot of the penultimate l...</td>\n",
       "    </tr>\n",
       "    <tr>\n",
       "      <th>204</th>\n",
       "      <td>9</td>\n",
       "      <td>0</td>\n",
       "      <td>Descend to the penultimate row, then navigate ...</td>\n",
       "      <td>descend to the penultimate row, then navigate ...</td>\n",
       "    </tr>\n",
       "    <tr>\n",
       "      <th>...</th>\n",
       "      <td>...</td>\n",
       "      <td>...</td>\n",
       "      <td>...</td>\n",
       "      <td>...</td>\n",
       "    </tr>\n",
       "    <tr>\n",
       "      <th>4040</th>\n",
       "      <td>9</td>\n",
       "      <td>0</td>\n",
       "      <td>Go to the bottom row on the leftmost position.\\n</td>\n",
       "      <td>go to the bottom row on the leftmost position.\\n</td>\n",
       "    </tr>\n",
       "    <tr>\n",
       "      <th>5196</th>\n",
       "      <td>9</td>\n",
       "      <td>0</td>\n",
       "      <td>Go to the bottom row on the left.\\n</td>\n",
       "      <td>go to the bottom row on the left.\\n</td>\n",
       "    </tr>\n",
       "    <tr>\n",
       "      <th>5236</th>\n",
       "      <td>9</td>\n",
       "      <td>0</td>\n",
       "      <td>Go to the bottom row's first case.\\n</td>\n",
       "      <td>go to the bottom row's first case.\\n</td>\n",
       "    </tr>\n",
       "    <tr>\n",
       "      <th>6624</th>\n",
       "      <td>9</td>\n",
       "      <td>0</td>\n",
       "      <td>Go to the bottom row on the leftmost column.\\n</td>\n",
       "      <td>go to the bottom row on the leftmost column.\\n</td>\n",
       "    </tr>\n",
       "    <tr>\n",
       "      <th>6630</th>\n",
       "      <td>9</td>\n",
       "      <td>0</td>\n",
       "      <td>Go to the first case on the last row.\\n</td>\n",
       "      <td>go to the first case on the last row.\\n</td>\n",
       "    </tr>\n",
       "  </tbody>\n",
       "</table>\n",
       "<p>1082 rows × 4 columns</p>\n",
       "</div>"
      ],
      "text/plain": [
       "      row  column                                             prompt  \\\n",
       "200     9       0  \"Navigate to the extreme left cell in the bott...   \n",
       "201     9       0  \"Navigate to the leftmost location on the lowe...   \n",
       "202     9       0  Navigate to the farthest left position on the ...   \n",
       "203     9       0  Head to the leftmost slot of the penultimate l...   \n",
       "204     9       0  Descend to the penultimate row, then navigate ...   \n",
       "...   ...     ...                                                ...   \n",
       "4040    9       0   Go to the bottom row on the leftmost position.\\n   \n",
       "5196    9       0                Go to the bottom row on the left.\\n   \n",
       "5236    9       0               Go to the bottom row's first case.\\n   \n",
       "6624    9       0     Go to the bottom row on the leftmost column.\\n   \n",
       "6630    9       0            Go to the first case on the last row.\\n   \n",
       "\n",
       "                                                      p  \n",
       "200   \"navigate to the extreme left cell in the bott...  \n",
       "201   \"navigate to the leftmost location on the lowe...  \n",
       "202   navigate to the farthest left position on the ...  \n",
       "203   head to the leftmost slot of the penultimate l...  \n",
       "204   descend to the penultimate row, then navigate ...  \n",
       "...                                                 ...  \n",
       "4040   go to the bottom row on the leftmost position.\\n  \n",
       "5196                go to the bottom row on the left.\\n  \n",
       "5236               go to the bottom row's first case.\\n  \n",
       "6624     go to the bottom row on the leftmost column.\\n  \n",
       "6630            go to the first case on the last row.\\n  \n",
       "\n",
       "[1082 rows x 4 columns]"
      ]
     },
     "execution_count": 99,
     "metadata": {},
     "output_type": "execute_result"
    }
   ],
   "source": [
    "df2[(df2.row == 9) & (df.column == 0)]"
   ]
  },
  {
   "cell_type": "code",
   "execution_count": 85,
   "metadata": {},
   "outputs": [
    {
     "name": "stdout",
     "output_type": "stream",
     "text": [
      "Advance almost completely down and across the expanse to find your mark.\n",
      "\n"
     ]
    },
    {
     "data": {
      "text/plain": [
       "row                                                       9\n",
       "column                                                    9\n",
       "prompt    Advance almost completely down and across the ...\n",
       "p         advance almost completely down and across the ...\n",
       "Name: 3321, dtype: object"
      ]
     },
     "execution_count": 85,
     "metadata": {},
     "output_type": "execute_result"
    }
   ],
   "source": [
    "import random\n",
    "\n",
    "idx = random.choice(df2.index)\n",
    "\n",
    "print(df2.loc[idx].prompt)\n",
    "df2.loc[idx]"
   ]
  }
 ],
 "metadata": {
  "kernelspec": {
   "display_name": "pyt",
   "language": "python",
   "name": "python3"
  },
  "language_info": {
   "codemirror_mode": {
    "name": "ipython",
    "version": 3
   },
   "file_extension": ".py",
   "mimetype": "text/x-python",
   "name": "python",
   "nbconvert_exporter": "python",
   "pygments_lexer": "ipython3",
   "version": "3.10.13"
  }
 },
 "nbformat": 4,
 "nbformat_minor": 2
}
