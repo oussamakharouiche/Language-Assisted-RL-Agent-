{
 "cells": [
  {
   "cell_type": "markdown",
   "metadata": {},
   "source": [
    "### Enhanced embeddings with classification "
   ]
  },
  {
   "cell_type": "code",
   "execution_count": null,
   "metadata": {},
   "outputs": [],
   "source": [
    "# Imports\n",
    "import pandas as pd\n",
    "import numpy as np\n",
    "import torch\n",
    "from transformers import BertTokenizer, BertForSequenceClassification, TrainingArguments, Trainer\n",
    "from datasets import Dataset, DatasetDict\n",
    "from sklearn.model_selection import train_test_split\n",
    "from datasets import Dataset, DatasetDict\n",
    "import evaluate"
   ]
  },
  {
   "cell_type": "code",
   "execution_count": null,
   "metadata": {},
   "outputs": [],
   "source": [
    "# Loading the dataset\n",
    "data = pd.read_pickle(\"../dataset/data.pkl\")\n",
    "data = data.drop_duplicates(subset=[\"prompt\"])"
   ]
  },
  {
   "cell_type": "code",
   "execution_count": null,
   "metadata": {},
   "outputs": [],
   "source": [
    "# Data preprocessing\n",
    "\n",
    "def position_to_class(row, col):\n",
    "    \"\"\"Assigns classes to specific positions in a grid.\"\"\"\n",
    "    if (row, col) == (0, 9):\n",
    "        return 0\n",
    "    elif (row, col) == (9, 0):\n",
    "        return 1\n",
    "    elif (row, col) == (9, 9):\n",
    "        return 2\n",
    "    \n",
    "def preprocess_text(text):\n",
    "    return text.strip()\n",
    "\n",
    "\n",
    "data[\"class\"] = data.apply(lambda row: position_to_class(row[\"row\"], row[\"column\"]), axis=1)\n",
    "data[\"prompt\"] = data[\"prompt\"].apply(preprocess_text)\n",
    "\n",
    "# Split dataset into train, validation, and test sets\n",
    "train_texts, temp_texts, train_labels, temp_labels = train_test_split(data[\"prompt\"], data[\"class\"], test_size=0.2, random_state=42)\n",
    "valid_texts, test_texts, valid_labels, test_labels = train_test_split(temp_texts, temp_labels, test_size=0.5, random_state=42)"
   ]
  },
  {
   "cell_type": "code",
   "execution_count": null,
   "metadata": {},
   "outputs": [],
   "source": [
    "# Load BERT tokenizer\n",
    "tokenizer = BertTokenizer.from_pretrained(\"bert-base-uncased\")\n",
    "\n",
    "# Convert to Hugging Face Dataset\n",
    "dataset = DatasetDict({\n",
    "    \"train\": Dataset.from_dict({\"text\": train_texts.tolist(), \"label\": train_labels.tolist()}),\n",
    "    \"valid\": Dataset.from_dict({\"text\": valid_texts.tolist(), \"label\": valid_labels.tolist()}),\n",
    "    \"test\": Dataset.from_dict({\"text\": test_texts.tolist(), \"label\": test_labels.tolist()}),\n",
    "})\n",
    "\n",
    "def tokenize_function(texts):\n",
    "    return tokenizer(texts, padding=\"max_length\", truncation=True, max_length=128)\n",
    "\n",
    "# Tokenize datasets\n",
    "dataset = dataset.map(lambda x: tokenize_function(x[\"text\"]), batched=True)\n",
    "\n",
    "# Set format for PyTorch\n",
    "dataset.set_format(type=\"torch\", columns=[\"input_ids\", \"attention_mask\", \"label\"])\n",
    "\n",
    "# Load BERT model with classification head\n",
    "num_labels = data[\"class\"].nunique()\n",
    "model = BertForSequenceClassification.from_pretrained(\"bert-base-uncased\", num_labels=num_labels)\n",
    "\n",
    "# Freeze all BERT parameters\n",
    "# for param in model.bert.parameters():\n",
    "#     param.requires_grad = False\n",
    "\n",
    "# Define accuracy metric\n",
    "metric = evaluate.load(\"accuracy\")\n",
    "\n",
    "def compute_metrics(eval_pred):\n",
    "    logits, labels = eval_pred\n",
    "    predictions = np.argmax(logits, axis=-1)\n",
    "    return metric.compute(predictions=predictions, references=labels)\n",
    "\n",
    "# Training arguments\n",
    "training_args = TrainingArguments(\n",
    "    output_dir=\"./results\",\n",
    "    evaluation_strategy=\"epoch\",\n",
    "    save_strategy=\"epoch\",\n",
    "    per_device_train_batch_size=24,\n",
    "    per_device_eval_batch_size=24,\n",
    "    num_train_epochs=3,\n",
    "    weight_decay=0.01,\n",
    "    logging_dir=\"./logs\",\n",
    "    report_to=[],  \n",
    "    logging_steps=10, \n",
    ")\n",
    "\n",
    "# Trainer instance\n",
    "trainer = Trainer(\n",
    "    model=model,\n",
    "    args=training_args,\n",
    "    train_dataset=dataset[\"train\"],\n",
    "    eval_dataset=dataset[\"valid\"],\n",
    "    tokenizer=tokenizer,\n",
    "    compute_metrics=compute_metrics,\n",
    ")\n",
    "\n",
    "# Train model\n",
    "trainer.train()\n",
    "\n",
    "# Evaluate model\n",
    "trainer.evaluate(dataset[\"test\"])\n"
   ]
  },
  {
   "cell_type": "code",
   "execution_count": null,
   "metadata": {},
   "outputs": [],
   "source": [
    "# Save the model and tokenizer\n",
    "model.save_pretrained(\"./saved_model\")\n",
    "tokenizer.save_pretrained(\"./saved_model\")\n"
   ]
  },
  {
   "cell_type": "code",
   "execution_count": null,
   "metadata": {},
   "outputs": [],
   "source": [
    "# Function to embed text using the trained model\n",
    "def embed_text(texts, model, tokenizer, device='cuda'):\n",
    "    model.to(device)\n",
    "    encodings = tokenizer(texts, padding=True, truncation=True, max_length=128, return_tensors=\"pt\")\n",
    "    \n",
    "    input_ids = encodings['input_ids'].to(device)\n",
    "    attention_mask = encodings['attention_mask'].to(device)\n",
    "    \n",
    "    # Get embeddings from the model  \n",
    "    with torch.no_grad():\n",
    "        outputs = model(input_ids=input_ids, attention_mask=attention_mask, output_hidden_states=True)\n",
    "        embeddings = outputs.hidden_states[-1][:, 0, :]  # Using the embeddings from the last layer (CLS token)\n",
    "    \n",
    "    return embeddings\n",
    "\n",
    "# Example usage for embedding a text\n",
    "device = 'cuda' if torch.cuda.is_available() else 'cpu'\n",
    "text = [\"Move to the last column on the top row\"]\n",
    "embeddings = embed_text(text, model, tokenizer, device)\n",
    "print(embeddings)"
   ]
  }
 ],
 "metadata": {
  "kernelspec": {
   "display_name": "base",
   "language": "python",
   "name": "python3"
  },
  "language_info": {
   "codemirror_mode": {
    "name": "ipython",
    "version": 3
   },
   "file_extension": ".py",
   "mimetype": "text/x-python",
   "name": "python",
   "nbconvert_exporter": "python",
   "pygments_lexer": "ipython3",
   "version": "3.10.9"
  }
 },
 "nbformat": 4,
 "nbformat_minor": 2
}
